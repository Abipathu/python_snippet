{
  "nbformat": 4,
  "nbformat_minor": 0,
  "metadata": {
    "colab": {
      "provenance": [],
      "collapsed_sections": [],
      "authorship_tag": "ABX9TyOViHzfTzxlnDuWvkXS68fa",
      "include_colab_link": true
    },
    "kernelspec": {
      "name": "python3",
      "display_name": "Python 3"
    },
    "language_info": {
      "name": "python"
    }
  },
  "cells": [
    {
      "cell_type": "markdown",
      "metadata": {
        "id": "view-in-github",
        "colab_type": "text"
      },
      "source": [
        "<a href=\"https://colab.research.google.com/github/Abipathu/python_snippet/blob/main/bio_py.ipynb\" target=\"_parent\"><img src=\"https://colab.research.google.com/assets/colab-badge.svg\" alt=\"Open In Colab\"/></a>"
      ]
    },
    {
      "cell_type": "code",
      "execution_count": null,
      "metadata": {
        "id": "eVLpVgkWA0wk"
      },
      "outputs": [],
      "source": [
        "name = input(\"what is your name?\" )"
      ]
    },
    {
      "cell_type": "code",
      "source": [
        "from datetime import date\n",
        "todays_date = date.today()\n",
        "year = todays_date.year"
      ],
      "metadata": {
        "id": "o3C5178DBuDi"
      },
      "execution_count": null,
      "outputs": []
    },
    {
      "cell_type": "code",
      "source": [
        "Birth_year = input(\"Birth year: \")\n",
        "age = int(year) - int(Birth_year)"
      ],
      "metadata": {
        "id": "BAnlCdxtCbJY"
      },
      "execution_count": null,
      "outputs": []
    },
    {
      "cell_type": "code",
      "source": [
        "weight = input(\"weight in kg: \")\n",
        "lbs = int(weight) * 2.205"
      ],
      "metadata": {
        "id": "gr9URs1-Cl0g"
      },
      "execution_count": null,
      "outputs": []
    },
    {
      "cell_type": "code",
      "source": [
        "color = input(\"Favourite color: \")"
      ],
      "metadata": {
        "id": "mYwrW7zzCltE"
      },
      "execution_count": null,
      "outputs": []
    },
    {
      "cell_type": "code",
      "source": [
        "print(\"Name:\", name)\n",
        "print(\"Age:\", age)\n",
        "print(\"Weight in lbs:\", lbs)\n",
        "print(name + \"'s favourite color is \"+ color)"
      ],
      "metadata": {
        "colab": {
          "base_uri": "https://localhost:8080/"
        },
        "id": "kJFkAQoyCl5f",
        "outputId": "1b2c5dae-9471-445c-c94b-c44bd7a9f2a5"
      },
      "execution_count": 26,
      "outputs": [
        {
          "output_type": "stream",
          "name": "stdout",
          "text": [
            "Name: abi\n",
            "Age: 21\n",
            "Weight in lbs: 143.32500000000002\n",
            "abi's favourite color is black\n"
          ]
        }
      ]
    },
    {
      "cell_type": "code",
      "source": [],
      "metadata": {
        "id": "fVA-IhikCl8Q"
      },
      "execution_count": 14,
      "outputs": []
    },
    {
      "cell_type": "code",
      "source": [],
      "metadata": {
        "id": "tdIVxZpgCl-i"
      },
      "execution_count": 14,
      "outputs": []
    },
    {
      "cell_type": "code",
      "source": [],
      "metadata": {
        "id": "KueDvJtSCmBk"
      },
      "execution_count": 14,
      "outputs": []
    }
  ]
}